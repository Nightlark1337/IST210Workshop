{
  "nbformat": 4,
  "nbformat_minor": 0,
  "metadata": {
    "colab": {
      "name": "GroupProject4.ipynb",
      "provenance": [],
      "collapsed_sections": [],
      "include_colab_link": true
    },
    "kernelspec": {
      "name": "python3",
      "display_name": "Python 3"
    }
  },
  "cells": [
    {
      "cell_type": "markdown",
      "metadata": {
        "id": "view-in-github",
        "colab_type": "text"
      },
      "source": [
        "<a href=\"https://colab.research.google.com/github/Nightlark1337/IST210Workshop/blob/master/GroupProject4.ipynb\" target=\"_parent\"><img src=\"https://colab.research.google.com/assets/colab-badge.svg\" alt=\"Open In Colab\"/></a>"
      ]
    },
    {
      "cell_type": "code",
      "metadata": {
        "id": "B75bX4mvxFtD",
        "colab_type": "code",
        "colab": {}
      },
      "source": [
        "import sqlite3 # Once imported in a single notebook, it is available to us throughout the rest of the notebook. \n",
        "# connect to database, if not there, create it.\n",
        "connectionToDatabase = sqlite3.connect('USEPAData') \n",
        "\n",
        "cursor = connectionToDatabase.cursor()\n",
        "cursor.execute('''drop table IF EXISTS Shipments''')\n",
        "connectionToDatabase.commit()\n",
        "\n",
        "cursor.execute('''create table Shipments (shipmentID int PRIMARY KEY, employeeID int, itemsUsed text, expirationDates int, quantity int)''')\n",
        "connectionToDatabase.commit()\n",
        "\n",
        "cursor = connectionToDatabase.cursor()\n",
        "cursor.execute('''drop table IF EXISTS Employees''')\n",
        "connectionToDatabase.commit()\n",
        "\n",
        "cursor.execute('''create table Employees (employeeID int PRIMARY KEY, firstName text, lastName text, phone int, streetAddress text, city text, state text, zipcode int, position text)''')\n",
        "connectionToDatabase.commit()\n",
        "\n",
        "cursor.execute('''drop table IF EXISTS Dishes''')\n",
        "connectionToDatabase.commit()\n",
        "\n",
        "cursor.execute('''create table Dishes (dishID int PRIMARY KEY, name String, price int, numberInStock int, numberSold int)''')\n",
        "connectionToDatabase.commit()\n",
        "\n",
        "cursor.execute('''drop table IF EXISTS Transactions''')\n",
        "connectionToDatabase.commit()\n",
        "\n",
        "cursor.execute('''create table Transactions (transactionID int PRIMARY KEY, dateTime text, customerID int, paymentType text, rewardDiscount real)''')\n",
        "connectionToDatabase.commit()\n",
        "\n",
        "cursor.execute('''drop table IF EXISTS Customers''')\n",
        "connectionToDatabase.commit()\n",
        "\n",
        "cursor.execute('''create table Customers (customerID int PRIMARY KEY, firstName int, lastName text, streetAddress text, city text, state text, zipcode int, phone int)''')\n",
        "connectionToDatabase.commit()\n",
        "\n",
        "cursor.execute('''drop table IF EXISTS RewardCard''')\n",
        "connectionToDatabase.commit()\n",
        "\n",
        "cursor.execute('''create table RewardCard (cardID int PRIMARY KEY, customerID int, totalPoints int)''')\n",
        "connectionToDatabase.commit()"
      ],
      "execution_count": 0,
      "outputs": []
    },
    {
      "cell_type": "code",
      "metadata": {
        "id": "bqu63rfZKuaK",
        "colab_type": "code",
        "colab": {}
      },
      "source": [
        "#Jonas Shipments\n",
        "cursor.execute('''insert into Shipments values ('0001', '9846352156', 'beef patties', '12345' , '40');''')\n",
        "connectionToDatabase.commit()\n",
        "cursor.execute('''insert into Shipments values ('0002', '9842659854', 'lettuce', '12346' , '50');''')\n",
        "connectionToDatabase.commit()\n",
        "cursor.execute('''insert into Shipments values ('0003', '9846352156', 'buns', '12347' , '60');''')\n",
        "connectionToDatabase.commit()\n",
        "cursor.execute('''insert into Shipments values ('0004', '9846352156', 'fish', '12348' , '40');''')\n",
        "connectionToDatabase.commit()\n",
        "cursor.execute('''insert into Shipments values ('0005', '9842659854', 'sauces', '12349' , '25');''')\n",
        "connectionToDatabase.commit()"
      ],
      "execution_count": 0,
      "outputs": []
    },
    {
      "cell_type": "code",
      "metadata": {
        "id": "kmDjhOXGKu1H",
        "colab_type": "code",
        "colab": {}
      },
      "source": [
        "#Akimoto Employees\n",
        "cursor.execute('''insert into Employees values ('12345', 'Clinton', 'Barton', '9846352156', '365 Maple Street', 'Camp Hill', 'PA', '568211', 'Cashier' );''')\n",
        "connectionToDatabase.commit()\n",
        "cursor.execute('''insert into Employees values ('12346', 'Jardani', 'Jovonovich', '9842659854', '264 Apple Street', 'Camp Hill', 'PA', '568211', 'Cook' );''')\n",
        "connectionToDatabase.commit()\n",
        "cursor.execute('''insert into Employees values ('12347', 'Diana', 'Prince', '9846352152', '984 Oak Street', 'Camp Hill', 'PA', '568211',  'Manager' );''')\n",
        "connectionToDatabase.commit()\n",
        "cursor.execute('''insert into Employees values ('12348', 'Bruce', 'Wayne', '9842653521', '448 Pine Street', 'Camp Hill', 'PA', '568211', 'Co-Owner' );''')\n",
        "connectionToDatabase.commit()\n",
        "cursor.execute('''insert into Employees values ('12349', 'Wade', 'Wilson', '9846585321', '568 Locust Street', 'Camp Hill', 'PA', '568211', 'Co-Owner' );''')\n",
        "connectionToDatabase.commit()"
      ],
      "execution_count": 0,
      "outputs": []
    },
    {
      "cell_type": "code",
      "metadata": {
        "id": "qwKYL9NiKvHu",
        "colab_type": "code",
        "colab": {}
      },
      "source": [
        "#Ryan Dishes\n",
        "cursor.execute('''insert into Dishes values ('1', 'Cheese Burger', '7.00', '250', '1' );''')\n",
        "connectionToDatabase.commit()\n",
        "cursor.execute('''insert into Dishes values ('2', 'Fish sandwich' , '8.00', '250', '1' );''')\n",
        "connectionToDatabase.commit()\n",
        "cursor.execute('''insert into Dishes values ('3', 'Salad', '5.00', '150', '1' );''')\n",
        "connectionToDatabase.commit()\n",
        "cursor.execute('''insert into Dishes values ('4', 'Grilled fish', '10.00', '50', '1' );''')\n",
        "connectionToDatabase.commit()\n",
        "cursor.execute('''insert into Dishes values ('5', 'Fries', '4.00', '300', '1' );''')\n",
        "connectionToDatabase.commit()"
      ],
      "execution_count": 0,
      "outputs": []
    },
    {
      "cell_type": "code",
      "metadata": {
        "id": "A-F1H7Z2Kv3X",
        "colab_type": "code",
        "colab": {}
      },
      "source": [
        "#Cameron Transactions\n",
        "cursor.execute('''insert into Transactions values ('000001', '2019-10-05', '0001', 'credit', '5.00' );''')\n",
        "connectionToDatabase.commit()\n",
        "cursor.execute('''insert into Transactions values ('000002', '2019-10-05', '0002', 'cash', '10.00' );''')\n",
        "connectionToDatabase.commit()\n",
        "cursor.execute('''insert into Transactions values ('000003', '2019-10-05', '0003', 'debit', '5.00' );''')\n",
        "connectionToDatabase.commit()\n",
        "cursor.execute('''insert into Transactions values ('000004', '2019-10-05', '0004', 'free', '15.00' );''')\n",
        "connectionToDatabase.commit()\n",
        "cursor.execute('''insert into Transactions values ('000005', '2019-10-05', '0005', 'check', '10.00' );''')\n",
        "connectionToDatabase.commit()\n",
        "cursor.execute('''insert into Transactions values ('000006', '2019-10-05', '0006', 'cash', '0.00' );''')\n",
        "connectionToDatabase.commit()\n",
        "cursor.execute('''insert into Transactions values ('000007', '2019-10-05', '0007', 'free', '0.00' );''')\n",
        "connectionToDatabase.commit()"
      ],
      "execution_count": 0,
      "outputs": []
    },
    {
      "cell_type": "code",
      "metadata": {
        "id": "ZueZ5unKKv9H",
        "colab_type": "code",
        "colab": {}
      },
      "source": [
        "#Jared Customers\n",
        "cursor.execute('''insert into Customers values ('000001', 'John', 'Doe', '456 Pine Street', 'Camp Hill', 'PA', '568211', '7172869845' );''')\n",
        "connectionToDatabase.commit()\n",
        "cursor.execute('''insert into Customers values ('000002', 'Sam', 'Hill', '829 Maple Avenue', 'Camp Hill', 'PA', '568211', '7170294381' );''')\n",
        "connectionToDatabase.commit()\n",
        "cursor.execute('''insert into Customers values ('000003', 'Robert', 'Covington', '676 Oak Street', 'Camp Hill', 'PA', '568211', '7175231221' );''')\n",
        "connectionToDatabase.commit()\n",
        "cursor.execute('''insert into Customers values ('000004', 'Sarah', 'West', '245 Main Street', 'Camp Hill', 'PA', '568211', '7176789981' );''')\n",
        "connectionToDatabase.commit()\n",
        "cursor.execute('''insert into Customers values ('000005', 'Jane', 'Doe', '456 Pine Street', 'Camp Hill', 'PA', '568211', '7179256300' );''')\n",
        "connectionToDatabase.commit()\n",
        "cursor.execute('''insert into Customers values ('000006', 'Anthony', 'Esposito', '121 Apple Street', 'Camp Hill', 'PA', '568211','6106628523' );''')\n",
        "connectionToDatabase.commit()"
      ],
      "execution_count": 0,
      "outputs": []
    },
    {
      "cell_type": "code",
      "metadata": {
        "id": "vWHYIn_oKwCf",
        "colab_type": "code",
        "colab": {}
      },
      "source": [
        "#Jared RewardCard\n",
        "cursor.execute('''insert into RewardCard values ('000001','000001', '10' );''')\n",
        "connectionToDatabase.commit()\n",
        "cursor.execute('''insert into RewardCard values ('000002', '000002', '5' );''')\n",
        "connectionToDatabase.commit()\n",
        "cursor.execute('''insert into RewardCard values ('000003','000003', '40' );''')\n",
        "connectionToDatabase.commit()\n",
        "cursor.execute('''insert into RewardCard values ('000004','000004', '5' );''')\n",
        "connectionToDatabase.commit()\n",
        "cursor.execute('''insert into RewardCard values ('000005','000005', '25' );''')\n",
        "connectionToDatabase.commit()"
      ],
      "execution_count": 0,
      "outputs": []
    },
    {
      "cell_type": "markdown",
      "metadata": {
        "id": "6DFMIPgT0GEv",
        "colab_type": "text"
      },
      "source": [
        "![alt text](https://raw.githubusercontent.com/JonasJason/IST210Workshop/master/Restaurant_ERD.png)"
      ]
    },
    {
      "cell_type": "markdown",
      "metadata": {
        "id": "aqVoFcP9ehHy",
        "colab_type": "text"
      },
      "source": [
        "Missing FK's for itemsUsed, price in transactions. add FK server to Customer table that takes employeeID and in transactions employeeID for who was performing the transaction.\n",
        "under Dishes Employee ID needs to be an FK for who prepares the dish."
      ]
    },
    {
      "cell_type": "markdown",
      "metadata": {
        "id": "n5Yg--Ugokef",
        "colab_type": "text"
      },
      "source": [
        "# **Questions:**\n",
        "1. **What dishes are most and least popular?**\n",
        "\n",
        "\n",
        "\n"
      ]
    },
    {
      "cell_type": "code",
      "metadata": {
        "id": "gdlzjKA3G8t2",
        "colab_type": "code",
        "colab": {
          "base_uri": "https://localhost:8080/",
          "height": 102
        },
        "outputId": "9a1784da-a206-4e35-e0d1-cfcf10f6d491"
      },
      "source": [
        "cursor.execute('''SELECT * FROM Dishes ORDER BY numberSold DESC;''')\n",
        "for row in cursor.fetchall():\n",
        "  print (row)\n"
      ],
      "execution_count": 42,
      "outputs": [
        {
          "output_type": "stream",
          "text": [
            "(1, 'Cheese Burger', 7, 250, 1)\n",
            "(2, 'Fish sandwich', 8, 250, 1)\n",
            "(3, 'Salad', 5, 150, 1)\n",
            "(4, 'Grilled fish', 10, 50, 1)\n",
            "(5, 'Fries', 4, 300, 1)\n"
          ],
          "name": "stdout"
        }
      ]
    },
    {
      "cell_type": "markdown",
      "metadata": {
        "id": "xtb-dKNBXoIG",
        "colab_type": "text"
      },
      "source": [
        "This question is important because it is crucial for the restaurant management to know what dishes are the most and least popular so that they can prepare by ordering the proper amoung of ingredients to make each dish, without having too little or extra waste. With this query we intended to obtain a list of all the dishes (identified by dishID) in order of most popular to least. \n",
        "\n",
        "\n",
        "2. **What is the average discount customers get by using the rewards card?**\n"
      ]
    },
    {
      "cell_type": "markdown",
      "metadata": {
        "id": "BM9wQIUCX1WW",
        "colab_type": "text"
      },
      "source": [
        ""
      ]
    },
    {
      "cell_type": "code",
      "metadata": {
        "id": "WMaQRGYyXpze",
        "colab_type": "code",
        "colab": {
          "base_uri": "https://localhost:8080/",
          "height": 34
        },
        "outputId": "7e47105d-dc67-4714-d72f-57b5e12e76f8"
      },
      "source": [
        "cursor.execute('''SELECT AVG(rewardDiscount) from Transactions;''')\n",
        "for row in cursor.fetchall():\n",
        "  print (row)\n"
      ],
      "execution_count": 43,
      "outputs": [
        {
          "output_type": "stream",
          "text": [
            "(6.428571428571429,)\n"
          ],
          "name": "stdout"
        }
      ]
    },
    {
      "cell_type": "markdown",
      "metadata": {
        "id": "6VGfuw3hXtq2",
        "colab_type": "text"
      },
      "source": [
        "This question is important to the restaurant because management needs to know whether or not their rewards program is actually effective. The ownership wants to make sure that people who are consistently using their rewards cards are getting the discounts and benefits that they earned and deserve, but, also to make sure that they are not losing any money with the program. With this query we intened to obtain the average discount that customers receive by using their rewards card.  \n",
        "\n",
        "\n",
        "3. **What portion of employees have purchased dishes?**"
      ]
    },
    {
      "cell_type": "code",
      "metadata": {
        "id": "BsfJkQ84Xyk2",
        "colab_type": "code",
        "colab": {
          "base_uri": "https://localhost:8080/",
          "height": 34
        },
        "outputId": "06d3a0b2-92e2-48d7-da59-5c6d9644ec44"
      },
      "source": [
        "cursor.execute('''SELECT COUNT(employeeID) FROM Employees, Transactions WHERE paymentType = 'free';''')\n",
        "for row in cursor.fetchall():\n",
        "  print (row)\n"
      ],
      "execution_count": 44,
      "outputs": [
        {
          "output_type": "stream",
          "text": [
            "(10,)\n"
          ],
          "name": "stdout"
        }
      ]
    },
    {
      "cell_type": "markdown",
      "metadata": {
        "id": "sxd2EiL2X3C2",
        "colab_type": "text"
      },
      "source": [
        "This question is important to the restaurant because it is the management's way of determining what employees are getting meals for free instead of just getting their employee discount. The data in the paymentType row that says 'free' indicates that it was an employee who used them working at the restaurant to get free food, even though that's against company policy. With this query we expected to obtain the number of employees (based on employeeID) who are not paying for their food. \n"
      ]
    }
  ]
}