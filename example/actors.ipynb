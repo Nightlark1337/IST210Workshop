{
  "nbformat": 4,
  "nbformat_minor": 0,
  "metadata": {
    "colab": {
      "name": "actors.ipynb",
      "provenance": [],
      "include_colab_link": true
    },
    "kernelspec": {
      "name": "python3",
      "display_name": "Python 3"
    }
  },
  "cells": [
    {
      "cell_type": "markdown",
      "metadata": {
        "id": "view-in-github",
        "colab_type": "text"
      },
      "source": [
        "<a href=\"https://colab.research.google.com/github/Nightlark1337/IST210Workshop/blob/master/example/actors.ipynb\" target=\"_parent\"><img src=\"https://colab.research.google.com/assets/colab-badge.svg\" alt=\"Open In Colab\"/></a>"
      ]
    },
    {
      "cell_type": "code",
      "metadata": {
        "id": "xsSODMLLdJkp",
        "colab_type": "code",
        "colab": {}
      },
      "source": [
        ""
      ],
      "execution_count": 0,
      "outputs": []
    },
    {
      "cell_type": "markdown",
      "metadata": {
        "id": "gdh3poz2dKBV",
        "colab_type": "text"
      },
      "source": [
        "# This is my notebook with actors\n"
      ]
    },
    {
      "cell_type": "markdown",
      "metadata": {
        "id": "i3ZMBFAMdt1N",
        "colab_type": "text"
      },
      "source": [
        "![four actors hanging out](https://raw.githubusercontent.com/Nightlark1337/IST210Workshop/master/example/actors.png)"
      ]
    }
  ]
}